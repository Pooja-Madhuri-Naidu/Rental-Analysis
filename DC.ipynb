{
 "cells": [
  {
   "cell_type": "code",
   "execution_count": 1,
   "id": "0eddad39-cf1a-44a2-8cc9-9c0146cf9827",
   "metadata": {},
   "outputs": [],
   "source": [
    "import numpy as np\n",
    "import pandas as pd\n",
    "import matplotlib.pyplot as plt\n",
    "import seaborn as sns\n",
    "import requests\n",
    "from bs4 import BeautifulSoup\n",
    "import re\n",
    "import time"
   ]
  },
  {
   "cell_type": "markdown",
   "id": "23e4632d-e05d-4e2a-8171-ca096b03b6af",
   "metadata": {},
   "source": [
    "Importing the libraries."
   ]
  },
  {
   "cell_type": "markdown",
   "id": "b128f793-63de-409b-9780-5ba9e71e0947",
   "metadata": {},
   "source": [
    "Reading the data from the csv file."
   ]
  },
  {
   "cell_type": "code",
   "execution_count": 39,
   "id": "ed39f6f2-6b0a-4ee8-938a-f4f9ea02cc3f",
   "metadata": {},
   "outputs": [],
   "source": [
    "df=pd.read_csv(\"MgB.csv\")"
   ]
  },
  {
   "cell_type": "markdown",
   "id": "ab73496b-ccf0-479f-bc78-792f41424410",
   "metadata": {},
   "source": [
    "Head function usually gives the top rows."
   ]
  },
  {
   "cell_type": "code",
   "execution_count": 41,
   "id": "da432e08-8d3c-49b4-a518-21e56c5419ad",
   "metadata": {},
   "outputs": [
    {
     "data": {
      "text/html": [
       "<div>\n",
       "<style scoped>\n",
       "    .dataframe tbody tr th:only-of-type {\n",
       "        vertical-align: middle;\n",
       "    }\n",
       "\n",
       "    .dataframe tbody tr th {\n",
       "        vertical-align: top;\n",
       "    }\n",
       "\n",
       "    .dataframe thead th {\n",
       "        text-align: right;\n",
       "    }\n",
       "</style>\n",
       "<table border=\"1\" class=\"dataframe\">\n",
       "  <thead>\n",
       "    <tr style=\"text-align: right;\">\n",
       "      <th></th>\n",
       "      <th>Title</th>\n",
       "      <th>Furnishing_status</th>\n",
       "      <th>Agent</th>\n",
       "      <th>OperatingTime</th>\n",
       "      <th>SecurityDeposit</th>\n",
       "      <th>Premium</th>\n",
       "      <th>Area</th>\n",
       "    </tr>\n",
       "  </thead>\n",
       "  <tbody>\n",
       "    <tr>\n",
       "      <th>0</th>\n",
       "      <td>1 BHK Builder Floor for Rent in NEB Valley Soc...</td>\n",
       "      <td>FurnishingSemi-Furnished</td>\n",
       "      <td>Agent: Nagpal Associates</td>\n",
       "      <td>Operating Since: 2005</td>\n",
       "      <td>₹10,000</td>\n",
       "      <td>NaN</td>\n",
       "      <td>NaN</td>\n",
       "    </tr>\n",
       "    <tr>\n",
       "      <th>1</th>\n",
       "      <td>Studio Apartment for Rent in Project Amar Colo...</td>\n",
       "      <td>FurnishingSemi-Furnished</td>\n",
       "      <td>Agent: Bhalla Properties</td>\n",
       "      <td>Operating Since: 2000</td>\n",
       "      <td>₹10,000</td>\n",
       "      <td>NaN</td>\n",
       "      <td>NaN</td>\n",
       "    </tr>\n",
       "    <tr>\n",
       "      <th>2</th>\n",
       "      <td>1 BHK Builder Floor for Rent in Saket New Delhi</td>\n",
       "      <td>FurnishingSemi-Furnished</td>\n",
       "      <td>Agent: S S Deswal</td>\n",
       "      <td>NaN</td>\n",
       "      <td>₹10,000</td>\n",
       "      <td>NaN</td>\n",
       "      <td>NaN</td>\n",
       "    </tr>\n",
       "  </tbody>\n",
       "</table>\n",
       "</div>"
      ],
      "text/plain": [
       "                                               Title  \\\n",
       "0  1 BHK Builder Floor for Rent in NEB Valley Soc...   \n",
       "1  Studio Apartment for Rent in Project Amar Colo...   \n",
       "2    1 BHK Builder Floor for Rent in Saket New Delhi   \n",
       "\n",
       "          Furnishing_status                     Agent          OperatingTime  \\\n",
       "0  FurnishingSemi-Furnished  Agent: Nagpal Associates  Operating Since: 2005   \n",
       "1  FurnishingSemi-Furnished  Agent: Bhalla Properties  Operating Since: 2000   \n",
       "2  FurnishingSemi-Furnished         Agent: S S Deswal                    NaN   \n",
       "\n",
       "  SecurityDeposit  Premium  Area  \n",
       "0         ₹10,000      NaN   NaN  \n",
       "1         ₹10,000      NaN   NaN  \n",
       "2         ₹10,000      NaN   NaN  "
      ]
     },
     "execution_count": 41,
     "metadata": {},
     "output_type": "execute_result"
    }
   ],
   "source": [
    "df.head(3)"
   ]
  },
  {
   "cell_type": "markdown",
   "id": "523c0489-a341-4e9d-bdc1-0153bfeb082f",
   "metadata": {},
   "source": [
    "In the below cell ,we are extracting the particular string from the title column to form a new column called area in the dataframe.\n",
    "In re.search(pattern,string) we usually searches the pattern in that particular string.Here also we're doing the same but using group(1) to capture the string only inside the parenthesis.\n",
    "so now coming to the code,there we can see that we used search pattern twice.so the first search pattern is using ifelse condition to confirm whether there is a match or not.If there is no match it will return nan value.If there is a match ,it will go to second second search pattern and it will extract the match.so,why second search pattern because we cannot extract the match directly from the search pattern itself because if there is no match it will raise an error if we extract the match directly.\n",
    "Now we are applying this entire expression to the anonymous function called lambda.and after that in we use a method called apply in which allows us to apply function to either row or column.\n",
    "we are doing the same procedure to the all the columns to which we are extracting the data from the title column.\n",
    "\n"
   ]
  },
  {
   "cell_type": "code",
   "execution_count": 43,
   "id": "75de79e2-09a6-47af-a51a-7cc151a71045",
   "metadata": {},
   "outputs": [],
   "source": [
    "df['Area'] = df['Title'].apply(lambda title: re.search(r'in (.*?) New Delhi', title).group(1) if re.search(r'in (.*?) New Delhi', title) else np.NaN)\n"
   ]
  },
  {
   "cell_type": "code",
   "execution_count": 45,
   "id": "3263ef56-a51c-4dbd-bdfb-ed9f7412ff43",
   "metadata": {},
   "outputs": [],
   "source": [
    "df['BHK'] = df['Title'].apply(lambda title: re.search(r'\\d+\\s*BHK', title).group() if re.search(r'\\d+\\s*BHK', title) else np.NaN)\n"
   ]
  },
  {
   "cell_type": "code",
   "execution_count": 47,
   "id": "036214f6-feab-4106-b807-721227dc57f6",
   "metadata": {},
   "outputs": [],
   "source": [
    "df['BHK'] = df['BHK'].str.replace(r' BHK', '', regex=True)\n"
   ]
  },
  {
   "cell_type": "markdown",
   "id": "33edb114-c266-475e-abad-bd8a35007dd3",
   "metadata": {},
   "source": [
    "In the below cell we are extracting the data directly using string method."
   ]
  },
  {
   "cell_type": "code",
   "execution_count": 49,
   "id": "afb0d1e2-f494-4e46-9aff-edfab1a1da8e",
   "metadata": {},
   "outputs": [],
   "source": [
    "df['Furnishing_status'] = df['Furnishing_status'].str.extract(r'(Unfurnished|Semi-Furnished|Furnished)')\n"
   ]
  },
  {
   "cell_type": "markdown",
   "id": "5736c9dd-c7f3-4d06-a561-594c93c980a9",
   "metadata": {},
   "source": [
    "In the below cell we are replace the values in the search pattern with space and after that using strip we are getting string that needed without any unwanted spaces."
   ]
  },
  {
   "cell_type": "code",
   "execution_count": 51,
   "id": "6d9b9572-e692-4cca-b7a1-b448799545f6",
   "metadata": {},
   "outputs": [],
   "source": [
    "df['Owner'] = df['Agent'].str.replace(r'^(Agent:|Owner:|:|Property|Mansion|Properties|Builders|Associates)\\s*', '', regex=True).str.strip()\n"
   ]
  },
  {
   "cell_type": "markdown",
   "id": "f8cb989f-f8fe-4a33-a388-c0e8bae9c1eb",
   "metadata": {},
   "source": [
    "Converting the Security deposit column into the numeric column and applying the pattern to get the desired value.\n",
    "In premium column using where condition we are setting the value whether it is premium or not."
   ]
  },
  {
   "cell_type": "code",
   "execution_count": 53,
   "id": "0655bba4-7ece-4caf-b3b4-31195ea81cfc",
   "metadata": {},
   "outputs": [],
   "source": [
    "\n",
    "df['SecurityDeposit'] = pd.to_numeric(df['SecurityDeposit'].replace(r'[₹,]', '', regex=True), errors='coerce')\n",
    "\n",
    "df['Premium'] = np.where(df['SecurityDeposit'] > 5000, 'Premium', 'Non-Premium')\n",
    "\n"
   ]
  },
  {
   "cell_type": "code",
   "execution_count": null,
   "id": "43056306-5e48-4adf-bdaf-01d7dc921ecb",
   "metadata": {},
   "outputs": [],
   "source": [
    "In the below column we are converting it to string to extract the data after that we are converting again into int."
   ]
  },
  {
   "cell_type": "code",
   "execution_count": 55,
   "id": "b0566e85-a3eb-4185-9c8e-f0b05e41eee5",
   "metadata": {},
   "outputs": [],
   "source": [
    "df['OperatingTime'] = df['OperatingTime'].astype(str)  \n",
    "df['OperatingTime'] = df['OperatingTime'].str.extract(r'(\\d{4})')  \n",
    "df['OperatingTime'] = df['OperatingTime'].astype('Int64')  \n"
   ]
  },
  {
   "cell_type": "code",
   "execution_count": 57,
   "id": "6ea5ac17-f7c4-417b-bde2-afc4054756ef",
   "metadata": {},
   "outputs": [],
   "source": [
    "df['Residence'] = df['Title'].str.extract(r'(House|Apartment)', flags=re.IGNORECASE, expand=False).fillna('Other')\n"
   ]
  },
  {
   "cell_type": "code",
   "execution_count": 59,
   "id": "e0d524e8-5dbb-4c8e-8701-60d2531d8040",
   "metadata": {},
   "outputs": [],
   "source": [
    "df.rename(columns={\"Residence\":\"ResidencyType\"},inplace=True)"
   ]
  },
  {
   "cell_type": "code",
   "execution_count": 61,
   "id": "9d85fc44-3532-4da2-917a-d2b6a9c45b4a",
   "metadata": {},
   "outputs": [],
   "source": [
    "df.drop(columns=\"Agent\",inplace=True)"
   ]
  },
  {
   "cell_type": "code",
   "execution_count": 63,
   "id": "0ac8f691-ea90-4e15-bb5d-252a077dbf71",
   "metadata": {},
   "outputs": [],
   "source": [
    "df.fillna({col: 0 for col in df.select_dtypes(include=['number']).columns}, inplace=True)\n",
    "df.fillna({col: 'Unknown' for col in df.select_dtypes(include=['object']).columns}, inplace=True)"
   ]
  },
  {
   "cell_type": "code",
   "execution_count": 65,
   "id": "71a2adec-0967-4459-a690-cb3af04595d2",
   "metadata": {},
   "outputs": [
    {
     "data": {
      "text/html": [
       "<div>\n",
       "<style scoped>\n",
       "    .dataframe tbody tr th:only-of-type {\n",
       "        vertical-align: middle;\n",
       "    }\n",
       "\n",
       "    .dataframe tbody tr th {\n",
       "        vertical-align: top;\n",
       "    }\n",
       "\n",
       "    .dataframe thead th {\n",
       "        text-align: right;\n",
       "    }\n",
       "</style>\n",
       "<table border=\"1\" class=\"dataframe\">\n",
       "  <thead>\n",
       "    <tr style=\"text-align: right;\">\n",
       "      <th></th>\n",
       "      <th>Title</th>\n",
       "      <th>Furnishing_status</th>\n",
       "      <th>OperatingTime</th>\n",
       "      <th>SecurityDeposit</th>\n",
       "      <th>Premium</th>\n",
       "      <th>Area</th>\n",
       "      <th>BHK</th>\n",
       "      <th>Owner</th>\n",
       "      <th>ResidencyType</th>\n",
       "    </tr>\n",
       "  </thead>\n",
       "  <tbody>\n",
       "    <tr>\n",
       "      <th>0</th>\n",
       "      <td>1 BHK Builder Floor for Rent in NEB Valley Soc...</td>\n",
       "      <td>Semi-Furnished</td>\n",
       "      <td>2005</td>\n",
       "      <td>10000</td>\n",
       "      <td>Premium</td>\n",
       "      <td>NEB Valley Society, Saket</td>\n",
       "      <td>1</td>\n",
       "      <td>Nagpal Associates</td>\n",
       "      <td>Other</td>\n",
       "    </tr>\n",
       "    <tr>\n",
       "      <th>1</th>\n",
       "      <td>Studio Apartment for Rent in Project Amar Colo...</td>\n",
       "      <td>Semi-Furnished</td>\n",
       "      <td>2000</td>\n",
       "      <td>10000</td>\n",
       "      <td>Premium</td>\n",
       "      <td>Project Amar Colony, Lajpat Nagar 4</td>\n",
       "      <td>Unknown</td>\n",
       "      <td>Bhalla Properties</td>\n",
       "      <td>Apartment</td>\n",
       "    </tr>\n",
       "  </tbody>\n",
       "</table>\n",
       "</div>"
      ],
      "text/plain": [
       "                                               Title Furnishing_status  \\\n",
       "0  1 BHK Builder Floor for Rent in NEB Valley Soc...    Semi-Furnished   \n",
       "1  Studio Apartment for Rent in Project Amar Colo...    Semi-Furnished   \n",
       "\n",
       "   OperatingTime  SecurityDeposit  Premium  \\\n",
       "0           2005            10000  Premium   \n",
       "1           2000            10000  Premium   \n",
       "\n",
       "                                  Area      BHK              Owner  \\\n",
       "0            NEB Valley Society, Saket        1  Nagpal Associates   \n",
       "1  Project Amar Colony, Lajpat Nagar 4  Unknown  Bhalla Properties   \n",
       "\n",
       "  ResidencyType  \n",
       "0         Other  \n",
       "1     Apartment  "
      ]
     },
     "execution_count": 65,
     "metadata": {},
     "output_type": "execute_result"
    }
   ],
   "source": [
    "df.head(2)"
   ]
  },
  {
   "cell_type": "code",
   "execution_count": 67,
   "id": "a6116996-4dd5-4631-88b3-20dfd7574edc",
   "metadata": {},
   "outputs": [],
   "source": [
    "df.drop(columns=\"Title\",inplace=True)"
   ]
  },
  {
   "cell_type": "code",
   "execution_count": 69,
   "id": "94340920-b39c-460d-ae69-428e55e3335b",
   "metadata": {},
   "outputs": [],
   "source": [
    "df.to_csv(\"MGB.csv\")"
   ]
  },
  {
   "cell_type": "code",
   "execution_count": null,
   "id": "6e81653e-c49e-4c38-b446-ce1914bedafb",
   "metadata": {},
   "outputs": [],
   "source": []
  }
 ],
 "metadata": {
  "kernelspec": {
   "display_name": "Python 3 (ipykernel)",
   "language": "python",
   "name": "python3"
  },
  "language_info": {
   "codemirror_mode": {
    "name": "ipython",
    "version": 3
   },
   "file_extension": ".py",
   "mimetype": "text/x-python",
   "name": "python",
   "nbconvert_exporter": "python",
   "pygments_lexer": "ipython3",
   "version": "3.12.4"
  }
 },
 "nbformat": 4,
 "nbformat_minor": 5
}
